{
 "cells": [
  {
   "cell_type": "code",
   "execution_count": 1,
   "id": "6150ee6c",
   "metadata": {},
   "outputs": [],
   "source": [
    "# Imports\n",
    "import pandas as pd\n",
    "import numpy as np\n",
    "import matplotlib.pyplot as plt"
   ]
  },
  {
   "cell_type": "code",
   "execution_count": 36,
   "id": "ee5f252a",
   "metadata": {},
   "outputs": [],
   "source": [
    "# Data Preparation\n",
    "\n",
    "# Dataframe \"folder/filename.csv\"\n",
    "driving_dupes=pd.read_csv(\"datasets/ROA05.20230506T170530.csv\")\n",
    "\n",
    "# Drop Duplicates\n",
    "driving= driving_dupes.drop_duplicates()\n",
    "\n",
    "# Fills missing values with mean of column\n",
    "driving.fillna(driving.mean(), inplace=True)"
   ]
  },
  {
   "cell_type": "code",
   "execution_count": 37,
   "id": "46882369",
   "metadata": {
    "scrolled": true
   },
   "outputs": [
    {
     "data": {
      "text/html": [
       "<div>\n",
       "<style scoped>\n",
       "    .dataframe tbody tr th:only-of-type {\n",
       "        vertical-align: middle;\n",
       "    }\n",
       "\n",
       "    .dataframe tbody tr th {\n",
       "        vertical-align: top;\n",
       "    }\n",
       "\n",
       "    .dataframe thead th {\n",
       "        text-align: right;\n",
       "    }\n",
       "</style>\n",
       "<table border=\"1\" class=\"dataframe\">\n",
       "  <thead>\n",
       "    <tr style=\"text-align: right;\">\n",
       "      <th></th>\n",
       "      <th>Statistic Label</th>\n",
       "      <th>Year</th>\n",
       "      <th>State</th>\n",
       "      <th>UNIT</th>\n",
       "      <th>VALUE</th>\n",
       "    </tr>\n",
       "  </thead>\n",
       "  <tbody>\n",
       "    <tr>\n",
       "      <th>0</th>\n",
       "      <td>Number of Applications Received</td>\n",
       "      <td>2005</td>\n",
       "      <td>State</td>\n",
       "      <td>Number</td>\n",
       "      <td>177216.0</td>\n",
       "    </tr>\n",
       "    <tr>\n",
       "      <th>1</th>\n",
       "      <td>Number of Applications Received</td>\n",
       "      <td>2006</td>\n",
       "      <td>State</td>\n",
       "      <td>Number</td>\n",
       "      <td>216880.0</td>\n",
       "    </tr>\n",
       "    <tr>\n",
       "      <th>2</th>\n",
       "      <td>Number of Applications Received</td>\n",
       "      <td>2007</td>\n",
       "      <td>State</td>\n",
       "      <td>Number</td>\n",
       "      <td>290678.0</td>\n",
       "    </tr>\n",
       "    <tr>\n",
       "      <th>3</th>\n",
       "      <td>Number of Applications Received</td>\n",
       "      <td>2008</td>\n",
       "      <td>State</td>\n",
       "      <td>Number</td>\n",
       "      <td>362163.0</td>\n",
       "    </tr>\n",
       "    <tr>\n",
       "      <th>4</th>\n",
       "      <td>Number of Applications Received</td>\n",
       "      <td>2009</td>\n",
       "      <td>State</td>\n",
       "      <td>Number</td>\n",
       "      <td>144670.0</td>\n",
       "    </tr>\n",
       "    <tr>\n",
       "      <th>5</th>\n",
       "      <td>Number of Applications Received</td>\n",
       "      <td>2010</td>\n",
       "      <td>State</td>\n",
       "      <td>Number</td>\n",
       "      <td>154166.0</td>\n",
       "    </tr>\n",
       "    <tr>\n",
       "      <th>6</th>\n",
       "      <td>Number of Applications Received</td>\n",
       "      <td>2011</td>\n",
       "      <td>State</td>\n",
       "      <td>Number</td>\n",
       "      <td>147108.0</td>\n",
       "    </tr>\n",
       "    <tr>\n",
       "      <th>7</th>\n",
       "      <td>Number of Applications Received</td>\n",
       "      <td>2012</td>\n",
       "      <td>State</td>\n",
       "      <td>Number</td>\n",
       "      <td>141309.0</td>\n",
       "    </tr>\n",
       "    <tr>\n",
       "      <th>8</th>\n",
       "      <td>Number of Applications Received</td>\n",
       "      <td>2013</td>\n",
       "      <td>State</td>\n",
       "      <td>Number</td>\n",
       "      <td>139381.0</td>\n",
       "    </tr>\n",
       "    <tr>\n",
       "      <th>9</th>\n",
       "      <td>Number of Applications Received</td>\n",
       "      <td>2014</td>\n",
       "      <td>State</td>\n",
       "      <td>Number</td>\n",
       "      <td>152078.0</td>\n",
       "    </tr>\n",
       "  </tbody>\n",
       "</table>\n",
       "</div>"
      ],
      "text/plain": [
       "                   Statistic Label  Year  State    UNIT     VALUE\n",
       "0  Number of Applications Received  2005  State  Number  177216.0\n",
       "1  Number of Applications Received  2006  State  Number  216880.0\n",
       "2  Number of Applications Received  2007  State  Number  290678.0\n",
       "3  Number of Applications Received  2008  State  Number  362163.0\n",
       "4  Number of Applications Received  2009  State  Number  144670.0\n",
       "5  Number of Applications Received  2010  State  Number  154166.0\n",
       "6  Number of Applications Received  2011  State  Number  147108.0\n",
       "7  Number of Applications Received  2012  State  Number  141309.0\n",
       "8  Number of Applications Received  2013  State  Number  139381.0\n",
       "9  Number of Applications Received  2014  State  Number  152078.0"
      ]
     },
     "execution_count": 37,
     "metadata": {},
     "output_type": "execute_result"
    }
   ],
   "source": [
    "# First 10 lines (Starting from 0 to 9)\n",
    "driving.head(10)"
   ]
  },
  {
   "cell_type": "code",
   "execution_count": 38,
   "id": "51de7d3d",
   "metadata": {},
   "outputs": [
    {
     "data": {
      "text/html": [
       "<div>\n",
       "<style scoped>\n",
       "    .dataframe tbody tr th:only-of-type {\n",
       "        vertical-align: middle;\n",
       "    }\n",
       "\n",
       "    .dataframe tbody tr th {\n",
       "        vertical-align: top;\n",
       "    }\n",
       "\n",
       "    .dataframe thead th {\n",
       "        text-align: right;\n",
       "    }\n",
       "</style>\n",
       "<table border=\"1\" class=\"dataframe\">\n",
       "  <thead>\n",
       "    <tr style=\"text-align: right;\">\n",
       "      <th></th>\n",
       "      <th>Statistic Label</th>\n",
       "      <th>Year</th>\n",
       "      <th>State</th>\n",
       "      <th>UNIT</th>\n",
       "      <th>VALUE</th>\n",
       "    </tr>\n",
       "  </thead>\n",
       "  <tbody>\n",
       "    <tr>\n",
       "      <th>109</th>\n",
       "      <td>Number of Testers Employed at End of Year</td>\n",
       "      <td>2012</td>\n",
       "      <td>State</td>\n",
       "      <td>Number</td>\n",
       "      <td>114.0</td>\n",
       "    </tr>\n",
       "    <tr>\n",
       "      <th>110</th>\n",
       "      <td>Number of Testers Employed at End of Year</td>\n",
       "      <td>2013</td>\n",
       "      <td>State</td>\n",
       "      <td>Number</td>\n",
       "      <td>103.7</td>\n",
       "    </tr>\n",
       "    <tr>\n",
       "      <th>111</th>\n",
       "      <td>Number of Testers Employed at End of Year</td>\n",
       "      <td>2014</td>\n",
       "      <td>State</td>\n",
       "      <td>Number</td>\n",
       "      <td>97.2</td>\n",
       "    </tr>\n",
       "    <tr>\n",
       "      <th>112</th>\n",
       "      <td>Number of Testers Employed at End of Year</td>\n",
       "      <td>2015</td>\n",
       "      <td>State</td>\n",
       "      <td>Number</td>\n",
       "      <td>92.2</td>\n",
       "    </tr>\n",
       "    <tr>\n",
       "      <th>113</th>\n",
       "      <td>Number of Testers Employed at End of Year</td>\n",
       "      <td>2016</td>\n",
       "      <td>State</td>\n",
       "      <td>Number</td>\n",
       "      <td>92.4</td>\n",
       "    </tr>\n",
       "    <tr>\n",
       "      <th>114</th>\n",
       "      <td>Number of Testers Employed at End of Year</td>\n",
       "      <td>2017</td>\n",
       "      <td>State</td>\n",
       "      <td>Number</td>\n",
       "      <td>103.4</td>\n",
       "    </tr>\n",
       "    <tr>\n",
       "      <th>115</th>\n",
       "      <td>Number of Testers Employed at End of Year</td>\n",
       "      <td>2018</td>\n",
       "      <td>State</td>\n",
       "      <td>Number</td>\n",
       "      <td>137.2</td>\n",
       "    </tr>\n",
       "    <tr>\n",
       "      <th>116</th>\n",
       "      <td>Number of Testers Employed at End of Year</td>\n",
       "      <td>2019</td>\n",
       "      <td>State</td>\n",
       "      <td>Number</td>\n",
       "      <td>145.0</td>\n",
       "    </tr>\n",
       "    <tr>\n",
       "      <th>117</th>\n",
       "      <td>Number of Testers Employed at End of Year</td>\n",
       "      <td>2020</td>\n",
       "      <td>State</td>\n",
       "      <td>Number</td>\n",
       "      <td>136.0</td>\n",
       "    </tr>\n",
       "    <tr>\n",
       "      <th>118</th>\n",
       "      <td>Number of Testers Employed at End of Year</td>\n",
       "      <td>2021</td>\n",
       "      <td>State</td>\n",
       "      <td>Number</td>\n",
       "      <td>164.0</td>\n",
       "    </tr>\n",
       "  </tbody>\n",
       "</table>\n",
       "</div>"
      ],
      "text/plain": [
       "                               Statistic Label  Year  State    UNIT  VALUE\n",
       "109  Number of Testers Employed at End of Year  2012  State  Number  114.0\n",
       "110  Number of Testers Employed at End of Year  2013  State  Number  103.7\n",
       "111  Number of Testers Employed at End of Year  2014  State  Number   97.2\n",
       "112  Number of Testers Employed at End of Year  2015  State  Number   92.2\n",
       "113  Number of Testers Employed at End of Year  2016  State  Number   92.4\n",
       "114  Number of Testers Employed at End of Year  2017  State  Number  103.4\n",
       "115  Number of Testers Employed at End of Year  2018  State  Number  137.2\n",
       "116  Number of Testers Employed at End of Year  2019  State  Number  145.0\n",
       "117  Number of Testers Employed at End of Year  2020  State  Number  136.0\n",
       "118  Number of Testers Employed at End of Year  2021  State  Number  164.0"
      ]
     },
     "execution_count": 38,
     "metadata": {},
     "output_type": "execute_result"
    }
   ],
   "source": [
    "# Bottom 10 rows in dataset\n",
    "driving.tail(10)"
   ]
  },
  {
   "cell_type": "code",
   "execution_count": 34,
   "id": "ddafcc0e",
   "metadata": {},
   "outputs": [
    {
     "name": "stdout",
     "output_type": "stream",
     "text": [
      "<class 'pandas.core.frame.DataFrame'>\n",
      "Int64Index: 119 entries, 0 to 118\n",
      "Data columns (total 5 columns):\n",
      " #   Column           Non-Null Count  Dtype  \n",
      "---  ------           --------------  -----  \n",
      " 0   Statistic Label  119 non-null    object \n",
      " 1   Year             119 non-null    int64  \n",
      " 2   State            119 non-null    object \n",
      " 3   UNIT             119 non-null    object \n",
      " 4   VALUE            118 non-null    float64\n",
      "dtypes: float64(1), int64(1), object(3)\n",
      "memory usage: 5.6+ KB\n"
     ]
    }
   ],
   "source": [
    "# General information including datatype and null counts\n",
    "driving.info()"
   ]
  },
  {
   "cell_type": "code",
   "execution_count": 6,
   "id": "9e365c91",
   "metadata": {},
   "outputs": [
    {
     "data": {
      "text/html": [
       "<div>\n",
       "<style scoped>\n",
       "    .dataframe tbody tr th:only-of-type {\n",
       "        vertical-align: middle;\n",
       "    }\n",
       "\n",
       "    .dataframe tbody tr th {\n",
       "        vertical-align: top;\n",
       "    }\n",
       "\n",
       "    .dataframe thead th {\n",
       "        text-align: right;\n",
       "    }\n",
       "</style>\n",
       "<table border=\"1\" class=\"dataframe\">\n",
       "  <thead>\n",
       "    <tr style=\"text-align: right;\">\n",
       "      <th></th>\n",
       "      <th>Year</th>\n",
       "      <th>VALUE</th>\n",
       "    </tr>\n",
       "  </thead>\n",
       "  <tbody>\n",
       "    <tr>\n",
       "      <th>count</th>\n",
       "      <td>119.000000</td>\n",
       "      <td>118.000000</td>\n",
       "    </tr>\n",
       "    <tr>\n",
       "      <th>mean</th>\n",
       "      <td>2013.000000</td>\n",
       "      <td>58603.675169</td>\n",
       "    </tr>\n",
       "    <tr>\n",
       "      <th>std</th>\n",
       "      <td>4.919694</td>\n",
       "      <td>80085.549140</td>\n",
       "    </tr>\n",
       "    <tr>\n",
       "      <th>min</th>\n",
       "      <td>2005.000000</td>\n",
       "      <td>5.500000</td>\n",
       "    </tr>\n",
       "    <tr>\n",
       "      <th>25%</th>\n",
       "      <td>2009.000000</td>\n",
       "      <td>55.042500</td>\n",
       "    </tr>\n",
       "    <tr>\n",
       "      <th>50%</th>\n",
       "      <td>2013.000000</td>\n",
       "      <td>20614.000000</td>\n",
       "    </tr>\n",
       "    <tr>\n",
       "      <th>75%</th>\n",
       "      <td>2017.000000</td>\n",
       "      <td>124846.750000</td>\n",
       "    </tr>\n",
       "    <tr>\n",
       "      <th>max</th>\n",
       "      <td>2021.000000</td>\n",
       "      <td>388366.000000</td>\n",
       "    </tr>\n",
       "  </tbody>\n",
       "</table>\n",
       "</div>"
      ],
      "text/plain": [
       "              Year          VALUE\n",
       "count   119.000000     118.000000\n",
       "mean   2013.000000   58603.675169\n",
       "std       4.919694   80085.549140\n",
       "min    2005.000000       5.500000\n",
       "25%    2009.000000      55.042500\n",
       "50%    2013.000000   20614.000000\n",
       "75%    2017.000000  124846.750000\n",
       "max    2021.000000  388366.000000"
      ]
     },
     "execution_count": 6,
     "metadata": {},
     "output_type": "execute_result"
    }
   ],
   "source": [
    "# Extra information around values\n",
    "driving.describe()"
   ]
  },
  {
   "cell_type": "code",
   "execution_count": 7,
   "id": "bd370586",
   "metadata": {},
   "outputs": [],
   "source": [
    "# Check max lengths of columns\n",
    "def max_lens(driving):\n",
    "    lens = []\n",
    "    for x in driving.columns:\n",
    "        sublen = []\n",
    "        for i, row, in driving.iterrows():\n",
    "            sublen.append(len(str(row[x])))\n",
    "        lens.append(max(sublen))\n",
    "    return lens"
   ]
  },
  {
   "cell_type": "code",
   "execution_count": 8,
   "id": "3bb1dc71",
   "metadata": {},
   "outputs": [
    {
     "data": {
      "text/plain": [
       "[44, 4, 5, 6, 8]"
      ]
     },
     "execution_count": 8,
     "metadata": {},
     "output_type": "execute_result"
    }
   ],
   "source": [
    "max_lens(driving)"
   ]
  },
  {
   "cell_type": "code",
   "execution_count": 13,
   "id": "b855d2c0",
   "metadata": {},
   "outputs": [],
   "source": [
    "# Filter to Average Pass Rate\n",
    "filtered_avgpass = driving[driving['Statistic Label'] == 'Average Pass Rate']"
   ]
  },
  {
   "cell_type": "code",
   "execution_count": 14,
   "id": "17e128f4",
   "metadata": {
    "scrolled": false
   },
   "outputs": [
    {
     "data": {
      "text/plain": [
       "Text(0.5, 1.0, 'Percentage of Average Pass Rate over time')"
      ]
     },
     "execution_count": 14,
     "metadata": {},
     "output_type": "execute_result"
    },
    {
     "data": {
      "image/png": "[encoded data removed]",
      "text/plain": [
       "<Figure size 432x288 with 1 Axes>"
      ]
     },
     "metadata": {
      "needs_background": "light"
     },
     "output_type": "display_data"
    }
   ],
   "source": [
    "# Create plot to show average pass rate over time\n",
    "plt.plot(filtered_avgpass['Year'], filtered_avgpass['VALUE'], marker='o', linestyle='-', color='b')\n",
    "plt.xlabel('Year')\n",
    "plt.ylabel('Average Pass Rate')\n",
    "plt.title('Percentage of Average Pass Rate over time')"
   ]
  },
  {
   "cell_type": "code",
   "execution_count": 17,
   "id": "a910b027",
   "metadata": {},
   "outputs": [],
   "source": [
    "# Filter to Driving tests conducted and number of applications received\n",
    "filtered_dt_numtests= driving[(driving['Statistic Label'] == 'Driving Tests Conducted') | (driving['Statistic Label'] == 'Number of Applications Received')]"
   ]
  },
  {
   "cell_type": "code",
   "execution_count": 18,
   "id": "a95bffdb",
   "metadata": {},
   "outputs": [],
   "source": [
    "# Pivot filtered dataframe\n",
    "pivot_driving = filtered_dt_numtests.pivot(index='Year', columns='Statistic Label', values='VALUE')"
   ]
  },
  {
   "cell_type": "code",
   "execution_count": 19,
   "id": "7e789ffc",
   "metadata": {},
   "outputs": [
    {
     "data": {
      "image/png": "[encoded data removed]",
      "text/plain": [
       "<Figure size 720x432 with 1 Axes>"
      ]
     },
     "metadata": {
      "needs_background": "light"
     },
     "output_type": "display_data"
    }
   ],
   "source": [
    "# Plot Driving tests and number of applications received over time\n",
    "plt.figure(figsize=(10, 6))\n",
    "plt.plot(pivot_driving.index, pivot_driving['Driving Tests Conducted'], marker='o', linestyle='-', color='b', label='Driving Tests Conducted')\n",
    "plt.plot(pivot_driving.index, pivot_driving['Number of Applications Received'], marker='o', linestyle='-', color='r', label='Number of Applications Received')\n",
    "plt.xlabel('Year')\n",
    "plt.ylabel('Count')\n",
    "plt.title('Driving Tests Conducted vs Number of Applications Received')\n",
    "plt.legend()\n",
    "plt.grid(True)\n",
    "plt.xticks(rotation=45)\n",
    "plt.show()"
   ]
  },
  {
   "cell_type": "code",
   "execution_count": 56,
   "id": "da0ff5f3",
   "metadata": {},
   "outputs": [],
   "source": [
    "# Second Dataframe\n",
    "theory_dupes=pd.read_csv(\"datasets/ROA08.20230516T150528.csv\")\n",
    "\n",
    "# Drop Duplicates\n",
    "theory= theory_dupes.drop_duplicates()\n",
    "\n",
    "# Fills missing values with mean of column\n",
    "theory.fillna(theory.mean(), inplace=True)"
   ]
  },
  {
   "cell_type": "code",
   "execution_count": 57,
   "id": "2ba0afff",
   "metadata": {},
   "outputs": [
    {
     "data": {
      "text/html": [
       "<div>\n",
       "<style scoped>\n",
       "    .dataframe tbody tr th:only-of-type {\n",
       "        vertical-align: middle;\n",
       "    }\n",
       "\n",
       "    .dataframe tbody tr th {\n",
       "        vertical-align: top;\n",
       "    }\n",
       "\n",
       "    .dataframe thead th {\n",
       "        text-align: right;\n",
       "    }\n",
       "</style>\n",
       "<table border=\"1\" class=\"dataframe\">\n",
       "  <thead>\n",
       "    <tr style=\"text-align: right;\">\n",
       "      <th></th>\n",
       "      <th>Statistic Label</th>\n",
       "      <th>Year</th>\n",
       "      <th>State</th>\n",
       "      <th>UNIT</th>\n",
       "      <th>VALUE</th>\n",
       "    </tr>\n",
       "  </thead>\n",
       "  <tbody>\n",
       "    <tr>\n",
       "      <th>0</th>\n",
       "      <td>Tests Conducted</td>\n",
       "      <td>2002</td>\n",
       "      <td>State</td>\n",
       "      <td>Number</td>\n",
       "      <td>101428.0</td>\n",
       "    </tr>\n",
       "    <tr>\n",
       "      <th>1</th>\n",
       "      <td>Tests Conducted</td>\n",
       "      <td>2003</td>\n",
       "      <td>State</td>\n",
       "      <td>Number</td>\n",
       "      <td>118425.0</td>\n",
       "    </tr>\n",
       "    <tr>\n",
       "      <th>2</th>\n",
       "      <td>Tests Conducted</td>\n",
       "      <td>2004</td>\n",
       "      <td>State</td>\n",
       "      <td>Number</td>\n",
       "      <td>137016.0</td>\n",
       "    </tr>\n",
       "    <tr>\n",
       "      <th>3</th>\n",
       "      <td>Tests Conducted</td>\n",
       "      <td>2005</td>\n",
       "      <td>State</td>\n",
       "      <td>Number</td>\n",
       "      <td>157269.0</td>\n",
       "    </tr>\n",
       "    <tr>\n",
       "      <th>4</th>\n",
       "      <td>Tests Conducted</td>\n",
       "      <td>2006</td>\n",
       "      <td>State</td>\n",
       "      <td>Number</td>\n",
       "      <td>157846.0</td>\n",
       "    </tr>\n",
       "    <tr>\n",
       "      <th>5</th>\n",
       "      <td>Tests Conducted</td>\n",
       "      <td>2007</td>\n",
       "      <td>State</td>\n",
       "      <td>Number</td>\n",
       "      <td>169600.0</td>\n",
       "    </tr>\n",
       "    <tr>\n",
       "      <th>6</th>\n",
       "      <td>Tests Conducted</td>\n",
       "      <td>2008</td>\n",
       "      <td>State</td>\n",
       "      <td>Number</td>\n",
       "      <td>154166.0</td>\n",
       "    </tr>\n",
       "    <tr>\n",
       "      <th>7</th>\n",
       "      <td>Tests Conducted</td>\n",
       "      <td>2009</td>\n",
       "      <td>State</td>\n",
       "      <td>Number</td>\n",
       "      <td>132893.0</td>\n",
       "    </tr>\n",
       "    <tr>\n",
       "      <th>8</th>\n",
       "      <td>Tests Conducted</td>\n",
       "      <td>2010</td>\n",
       "      <td>State</td>\n",
       "      <td>Number</td>\n",
       "      <td>130159.0</td>\n",
       "    </tr>\n",
       "    <tr>\n",
       "      <th>9</th>\n",
       "      <td>Tests Conducted</td>\n",
       "      <td>2011</td>\n",
       "      <td>State</td>\n",
       "      <td>Number</td>\n",
       "      <td>110185.0</td>\n",
       "    </tr>\n",
       "  </tbody>\n",
       "</table>\n",
       "</div>"
      ],
      "text/plain": [
       "   Statistic Label  Year  State    UNIT     VALUE\n",
       "0  Tests Conducted  2002  State  Number  101428.0\n",
       "1  Tests Conducted  2003  State  Number  118425.0\n",
       "2  Tests Conducted  2004  State  Number  137016.0\n",
       "3  Tests Conducted  2005  State  Number  157269.0\n",
       "4  Tests Conducted  2006  State  Number  157846.0\n",
       "5  Tests Conducted  2007  State  Number  169600.0\n",
       "6  Tests Conducted  2008  State  Number  154166.0\n",
       "7  Tests Conducted  2009  State  Number  132893.0\n",
       "8  Tests Conducted  2010  State  Number  130159.0\n",
       "9  Tests Conducted  2011  State  Number  110185.0"
      ]
     },
     "execution_count": 57,
     "metadata": {},
     "output_type": "execute_result"
    }
   ],
   "source": [
    "# First 10 lines (Starting from 0 to 9)\n",
    "theory.head(10)"
   ]
  },
  {
   "cell_type": "code",
   "execution_count": 65,
   "id": "8f764b76",
   "metadata": {},
   "outputs": [
    {
     "name": "stdout",
     "output_type": "stream",
     "text": [
      "<class 'pandas.core.frame.DataFrame'>\n",
      "Int64Index: 40 entries, 0 to 39\n",
      "Data columns (total 5 columns):\n",
      " #   Column           Non-Null Count  Dtype  \n",
      "---  ------           --------------  -----  \n",
      " 0   Statistic Label  40 non-null     object \n",
      " 1   Year             40 non-null     int64  \n",
      " 2   State            40 non-null     object \n",
      " 3   UNIT             40 non-null     object \n",
      " 4   VALUE            40 non-null     float64\n",
      "dtypes: float64(1), int64(1), object(3)\n",
      "memory usage: 1.9+ KB\n"
     ]
    }
   ],
   "source": [
    "#Information on 'theory' DataFrame\n",
    "theory.info()"
   ]
  },
  {
   "cell_type": "code",
   "execution_count": 58,
   "id": "051fdf6e",
   "metadata": {},
   "outputs": [],
   "source": [
    "# Merging the Dataframes by 'Year' and 'State'\n",
    "merged_df = pd.merge(driving, theory, on=['Year', 'State'], suffixes=('_driving', '_theory'), how='inner')"
   ]
  },
  {
   "cell_type": "code",
   "execution_count": 59,
   "id": "0b784651",
   "metadata": {},
   "outputs": [
    {
     "name": "stdout",
     "output_type": "stream",
     "text": [
      "                          Statistic Label_driving  Year  State UNIT_driving  \\\n",
      "0                 Number of Applications Received  2005  State       Number   \n",
      "1                 Number of Applications Received  2005  State       Number   \n",
      "2                         Driving Tests Conducted  2005  State       Number   \n",
      "3                         Driving Tests Conducted  2005  State       Number   \n",
      "4        Applicant Did Not Attend for Appointment  2005  State       Number   \n",
      "..                                            ...   ...    ...          ...   \n",
      "233  Average Waiting Time for Test at End of Year  2021  State        Weeks   \n",
      "234                             Average Pass Rate  2021  State            %   \n",
      "235                             Average Pass Rate  2021  State            %   \n",
      "236     Number of Testers Employed at End of Year  2021  State       Number   \n",
      "237     Number of Testers Employed at End of Year  2021  State       Number   \n",
      "\n",
      "     VALUE_driving Statistic Label_theory UNIT_theory  VALUE_theory  \n",
      "0        177216.00        Tests Conducted      Number      157269.0  \n",
      "1        177216.00   Percentage Pass Rate           %          81.6  \n",
      "2        137500.00        Tests Conducted      Number      157269.0  \n",
      "3        137500.00   Percentage Pass Rate           %          81.6  \n",
      "4         22620.00        Tests Conducted      Number      157269.0  \n",
      "..             ...                    ...         ...           ...  \n",
      "233           7.90   Percentage Pass Rate           %          73.5  \n",
      "234          55.17        Tests Conducted      Number      201915.0  \n",
      "235          55.17   Percentage Pass Rate           %          73.5  \n",
      "236         164.00        Tests Conducted      Number      201915.0  \n",
      "237         164.00   Percentage Pass Rate           %          73.5  \n",
      "\n",
      "[238 rows x 8 columns]\n"
     ]
    }
   ],
   "source": [
    "print(merged_df)"
   ]
  },
  {
   "cell_type": "code",
   "execution_count": 60,
   "id": "c8af6e57",
   "metadata": {
    "scrolled": false
   },
   "outputs": [
    {
     "data": {
      "text/html": [
       "<div>\n",
       "<style scoped>\n",
       "    .dataframe tbody tr th:only-of-type {\n",
       "        vertical-align: middle;\n",
       "    }\n",
       "\n",
       "    .dataframe tbody tr th {\n",
       "        vertical-align: top;\n",
       "    }\n",
       "\n",
       "    .dataframe thead th {\n",
       "        text-align: right;\n",
       "    }\n",
       "</style>\n",
       "<table border=\"1\" class=\"dataframe\">\n",
       "  <thead>\n",
       "    <tr style=\"text-align: right;\">\n",
       "      <th></th>\n",
       "      <th>Statistic Label_driving</th>\n",
       "      <th>Year</th>\n",
       "      <th>State</th>\n",
       "      <th>UNIT_driving</th>\n",
       "      <th>VALUE_driving</th>\n",
       "      <th>Statistic Label_theory</th>\n",
       "      <th>UNIT_theory</th>\n",
       "      <th>VALUE_theory</th>\n",
       "    </tr>\n",
       "  </thead>\n",
       "  <tbody>\n",
       "    <tr>\n",
       "      <th>0</th>\n",
       "      <td>Number of Applications Received</td>\n",
       "      <td>2005</td>\n",
       "      <td>State</td>\n",
       "      <td>Number</td>\n",
       "      <td>177216.0</td>\n",
       "      <td>Tests Conducted</td>\n",
       "      <td>Number</td>\n",
       "      <td>157269.0</td>\n",
       "    </tr>\n",
       "    <tr>\n",
       "      <th>1</th>\n",
       "      <td>Number of Applications Received</td>\n",
       "      <td>2005</td>\n",
       "      <td>State</td>\n",
       "      <td>Number</td>\n",
       "      <td>177216.0</td>\n",
       "      <td>Percentage Pass Rate</td>\n",
       "      <td>%</td>\n",
       "      <td>81.6</td>\n",
       "    </tr>\n",
       "    <tr>\n",
       "      <th>2</th>\n",
       "      <td>Driving Tests Conducted</td>\n",
       "      <td>2005</td>\n",
       "      <td>State</td>\n",
       "      <td>Number</td>\n",
       "      <td>137500.0</td>\n",
       "      <td>Tests Conducted</td>\n",
       "      <td>Number</td>\n",
       "      <td>157269.0</td>\n",
       "    </tr>\n",
       "    <tr>\n",
       "      <th>3</th>\n",
       "      <td>Driving Tests Conducted</td>\n",
       "      <td>2005</td>\n",
       "      <td>State</td>\n",
       "      <td>Number</td>\n",
       "      <td>137500.0</td>\n",
       "      <td>Percentage Pass Rate</td>\n",
       "      <td>%</td>\n",
       "      <td>81.6</td>\n",
       "    </tr>\n",
       "    <tr>\n",
       "      <th>4</th>\n",
       "      <td>Applicant Did Not Attend for Appointment</td>\n",
       "      <td>2005</td>\n",
       "      <td>State</td>\n",
       "      <td>Number</td>\n",
       "      <td>22620.0</td>\n",
       "      <td>Tests Conducted</td>\n",
       "      <td>Number</td>\n",
       "      <td>157269.0</td>\n",
       "    </tr>\n",
       "    <tr>\n",
       "      <th>5</th>\n",
       "      <td>Applicant Did Not Attend for Appointment</td>\n",
       "      <td>2005</td>\n",
       "      <td>State</td>\n",
       "      <td>Number</td>\n",
       "      <td>22620.0</td>\n",
       "      <td>Percentage Pass Rate</td>\n",
       "      <td>%</td>\n",
       "      <td>81.6</td>\n",
       "    </tr>\n",
       "    <tr>\n",
       "      <th>6</th>\n",
       "      <td>Number on Waiting List at End of Year</td>\n",
       "      <td>2005</td>\n",
       "      <td>State</td>\n",
       "      <td>Number</td>\n",
       "      <td>126561.0</td>\n",
       "      <td>Tests Conducted</td>\n",
       "      <td>Number</td>\n",
       "      <td>157269.0</td>\n",
       "    </tr>\n",
       "    <tr>\n",
       "      <th>7</th>\n",
       "      <td>Number on Waiting List at End of Year</td>\n",
       "      <td>2005</td>\n",
       "      <td>State</td>\n",
       "      <td>Number</td>\n",
       "      <td>126561.0</td>\n",
       "      <td>Percentage Pass Rate</td>\n",
       "      <td>%</td>\n",
       "      <td>81.6</td>\n",
       "    </tr>\n",
       "    <tr>\n",
       "      <th>8</th>\n",
       "      <td>Average Waiting Time for Test at End of Year</td>\n",
       "      <td>2005</td>\n",
       "      <td>State</td>\n",
       "      <td>Weeks</td>\n",
       "      <td>32.8</td>\n",
       "      <td>Tests Conducted</td>\n",
       "      <td>Number</td>\n",
       "      <td>157269.0</td>\n",
       "    </tr>\n",
       "    <tr>\n",
       "      <th>9</th>\n",
       "      <td>Average Waiting Time for Test at End of Year</td>\n",
       "      <td>2005</td>\n",
       "      <td>State</td>\n",
       "      <td>Weeks</td>\n",
       "      <td>32.8</td>\n",
       "      <td>Percentage Pass Rate</td>\n",
       "      <td>%</td>\n",
       "      <td>81.6</td>\n",
       "    </tr>\n",
       "  </tbody>\n",
       "</table>\n",
       "</div>"
      ],
      "text/plain": [
       "                        Statistic Label_driving  Year  State UNIT_driving  \\\n",
       "0               Number of Applications Received  2005  State       Number   \n",
       "1               Number of Applications Received  2005  State       Number   \n",
       "2                       Driving Tests Conducted  2005  State       Number   \n",
       "3                       Driving Tests Conducted  2005  State       Number   \n",
       "4      Applicant Did Not Attend for Appointment  2005  State       Number   \n",
       "5      Applicant Did Not Attend for Appointment  2005  State       Number   \n",
       "6         Number on Waiting List at End of Year  2005  State       Number   \n",
       "7         Number on Waiting List at End of Year  2005  State       Number   \n",
       "8  Average Waiting Time for Test at End of Year  2005  State        Weeks   \n",
       "9  Average Waiting Time for Test at End of Year  2005  State        Weeks   \n",
       "\n",
       "   VALUE_driving Statistic Label_theory UNIT_theory  VALUE_theory  \n",
       "0       177216.0        Tests Conducted      Number      157269.0  \n",
       "1       177216.0   Percentage Pass Rate           %          81.6  \n",
       "2       137500.0        Tests Conducted      Number      157269.0  \n",
       "3       137500.0   Percentage Pass Rate           %          81.6  \n",
       "4        22620.0        Tests Conducted      Number      157269.0  \n",
       "5        22620.0   Percentage Pass Rate           %          81.6  \n",
       "6       126561.0        Tests Conducted      Number      157269.0  \n",
       "7       126561.0   Percentage Pass Rate           %          81.6  \n",
       "8           32.8        Tests Conducted      Number      157269.0  \n",
       "9           32.8   Percentage Pass Rate           %          81.6  "
      ]
     },
     "execution_count": 60,
     "metadata": {},
     "output_type": "execute_result"
    }
   ],
   "source": [
    "# First 10 lines (Starting from 0 to 9)\n",
    "merged_df.head(10)"
   ]
  },
  {
   "cell_type": "code",
   "execution_count": 61,
   "id": "ce9eae11",
   "metadata": {},
   "outputs": [],
   "source": [
    "# Filter merged dataframe to only include the pass rate data\n",
    "pass_rate_df = merged_df[merged_df['Statistic Label_driving'] == 'Average Pass Rate']\n",
    "percentage_pass_rate_df = merged_df[merged_df['Statistic Label_theory'] == 'Percentage Pass Rate']"
   ]
  },
  {
   "cell_type": "code",
   "execution_count": 62,
   "id": "6c4140ec",
   "metadata": {},
   "outputs": [],
   "source": [
    "#Sort dataframes by year\n",
    "pass_rate_df = pass_rate_df.sort_values('Year')\n",
    "percentage_pass_rate_df = percentage_pass_rate_df.sort_values('Year')"
   ]
  },
  {
   "cell_type": "code",
   "execution_count": 63,
   "id": "a39435a4",
   "metadata": {},
   "outputs": [
    {
     "data": {
      "image/png": "[encoded data removed]",
      "text/plain": [
       "<Figure size 432x288 with 1 Axes>"
      ]
     },
     "metadata": {
      "needs_background": "light"
     },
     "output_type": "display_data"
    }
   ],
   "source": [
    "# Create the line plot, labels, title and legend\n",
    "plt.plot(pass_rate_df['Year'], pass_rate_df['VALUE_driving'], label='Driving Pass Rate')\n",
    "plt.plot(percentage_pass_rate_df['Year'], percentage_pass_rate_df['VALUE_theory'], label='Theory Pass Rate')\n",
    "plt.xlabel('Year')\n",
    "plt.ylabel('Pass Rate')\n",
    "plt.title('Comparison of Pass Rate')\n",
    "plt.legend()\n",
    "plt.show()"
   ]
  },
  {
   "cell_type": "code",
   "execution_count": 64,
   "id": "3a55b3e1",
   "metadata": {},
   "outputs": [
    {
     "name": "stdout",
     "output_type": "stream",
     "text": [
      "Mean applications received between 2015 and 2021= 170800.7142857143\n"
     ]
    }
   ],
   "source": [
    "# Calculating the mean number of applications received between 2015 and 2021\n",
    "\n",
    "\n",
    "#Filter Dataframe to only 'Number of Applications Received'\n",
    "applications_driving = driving[driving['Statistic Label'] == 'Number of Applications Received']\n",
    "\n",
    "\n",
    "#Filter Datafram to only years 2015 to 2021\n",
    "filtered_driving_2 = applications_driving[(applications_driving['Year'] >= 2015) & (applications_driving['Year'] <= 2021)]\n",
    "\n",
    "# Values\n",
    "values = filtered_driving_2['VALUE']\n",
    "values_array = np.array(values)\n",
    "mean_applications_received = np.mean(values_array)\n",
    "\n",
    "print(\"Mean applications received between 2015 and 2021=\", mean_applications_received)\n"
   ]
  }
 ],
 "metadata": {
  "kernelspec": {
   "display_name": "Python 3",
   "language": "python",
   "name": "python3"
  },
  "language_info": {
   "codemirror_mode": {
    "name": "ipython",
    "version": 3
   },
   "file_extension": ".py",
   "mimetype": "text/x-python",
   "name": "python",
   "nbconvert_exporter": "python",
   "pygments_lexer": "ipython3",
   "version": "3.8.8"
  }
 },
 "nbformat": 4,
 "nbformat_minor": 5
}
